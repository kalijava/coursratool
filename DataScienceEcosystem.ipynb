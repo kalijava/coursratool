{
 "cells": [
  {
   "cell_type": "markdown",
   "id": "73a9068e",
   "metadata": {},
   "source": [
    "# Data Science Tools and Ecosystem"
   ]
  },
  {
   "cell_type": "markdown",
   "id": "bfa5e8f9",
   "metadata": {},
   "source": [
    "###### In this notebook, Data Science Tools and Ecosystem are summarized"
   ]
  },
  {
   "cell_type": "markdown",
   "id": "818cc687",
   "metadata": {},
   "source": [
    "**objectives:**\n",
    "- List popular languages for Data Science\n",
    "- list the libraries used by data scentist\n",
    "- data science tool"
   ]
  },
  {
   "cell_type": "markdown",
   "id": "43bfdb0f",
   "metadata": {},
   "source": [
    "###### Some of the popular languages that Data Scientists use are:\n",
    "1. python\n",
    "2. langage R\n",
    "3. sql\n",
    "4. julia\n"
   ]
  },
  {
   "cell_type": "markdown",
   "id": "90fd1ca5",
   "metadata": {},
   "source": [
    "###### Some of the commonly used libraries used by Data Scientists include:\n",
    "1. pandas\n",
    "2. matplotlib\n",
    "3. numpy\n",
    "4. sklearn"
   ]
  },
  {
   "cell_type": "markdown",
   "id": "b7c70254",
   "metadata": {},
   "source": [
    "\n",
    "|Data Science Tools |\n",
    "|-------------| \n",
    "|jupyter |\n",
    "|git|\n",
    "|Rstudio |"
   ]
  },
  {
   "cell_type": "markdown",
   "id": "ca57b05d",
   "metadata": {},
   "source": [
    "### Below are a few examples of evaluating arithmetic expressions in Python"
   ]
  },
  {
   "cell_type": "code",
   "execution_count": 1,
   "id": "10b5331b",
   "metadata": {},
   "outputs": [
    {
     "data": {
      "text/plain": [
       "17"
      ]
     },
     "execution_count": 1,
     "metadata": {},
     "output_type": "execute_result"
    }
   ],
   "source": [
    "#This a simple arithmetic expression to mutiply then add integers\n",
    "(3*4)+5"
   ]
  },
  {
   "cell_type": "code",
   "execution_count": 2,
   "id": "0ef0e65c",
   "metadata": {},
   "outputs": [
    {
     "name": "stdout",
     "output_type": "stream",
     "text": [
      "3.3333333333333335\n"
     ]
    }
   ],
   "source": [
    "#This will convert 200 minutes to hours by diving by 60\n",
    "print(200/60)"
   ]
  },
  {
   "cell_type": "markdown",
   "id": "f72370dc",
   "metadata": {},
   "source": [
    "## Author\n",
    "kamga fotso francis"
   ]
  },
  {
   "cell_type": "code",
   "execution_count": null,
   "id": "41dcfa9c",
   "metadata": {},
   "outputs": [],
   "source": []
  }
 ],
 "metadata": {
  "kernelspec": {
   "display_name": "Python 3 (ipykernel)",
   "language": "python",
   "name": "python3"
  },
  "language_info": {
   "codemirror_mode": {
    "name": "ipython",
    "version": 3
   },
   "file_extension": ".py",
   "mimetype": "text/x-python",
   "name": "python",
   "nbconvert_exporter": "python",
   "pygments_lexer": "ipython3",
   "version": "3.9.13"
  }
 },
 "nbformat": 4,
 "nbformat_minor": 5
}
